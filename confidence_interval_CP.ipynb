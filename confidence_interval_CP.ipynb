{
 "cells": [
  {
   "cell_type": "code",
   "execution_count": 1,
   "metadata": {},
   "outputs": [],
   "source": [
    "import numpy as np\n",
    "from statsmodels.stats import proportion as prop\n",
    "import matplotlib.pyplot as plt"
   ]
  },
  {
   "cell_type": "code",
   "execution_count": 2,
   "metadata": {},
   "outputs": [],
   "source": [
    "def covarage_prob(n, p, n_iteration, method = 'normal'):\n",
    "    \"\"\"\n",
    "    Wald: method = 'normal' (default)\n",
    "    Clopper-Pearson: method = 'beta'\n",
    "    \"\"\"\n",
    "    count = 0\n",
    "    for i in range(n_iteration):\n",
    "        rand = np.random.binomial(n, p)\n",
    "        lower, upper = prop.proportion_confint(rand, n, method = method)\n",
    "        if (lower <= p) & (upper >= p):\n",
    "            count += 1\n",
    "        else:\n",
    "            pass\n",
    "    cp = count/n_iteration\n",
    "    return cp"
   ]
  },
  {
   "cell_type": "code",
   "execution_count": null,
   "metadata": {},
   "outputs": [],
   "source": [
    "%%time\n",
    "num_list = []\n",
    "coverage_cp_list = []\n",
    "for num in [5, 10, 25, 50, 100, 1000]:\n",
    "    cp_list = []\n",
    "    \n",
    "    for prob in np.arange(0, 1.001, 0.001):\n",
    "        prob = round(prob, 10)\n",
    "        coverage_prob = covarage_prob(n = num, p = prob, n_iteration = 10000)\n",
    "        cp_list.append(coverage_prob)\n",
    "    \n",
    "    coverage_cp_list.append(cp_list)\n",
    "    num_list.append(num)\n",
    "    \n",
    "    print(num)"
   ]
  },
  {
   "cell_type": "code",
   "execution_count": null,
   "metadata": {},
   "outputs": [],
   "source": [
    "prob_list = np.arange(0, 1.001, 0.001)\n",
    "\n",
    "fig, ax = plt.subplots(3, 2, figsize = (32, 32))\n",
    "for i in range(2):\n",
    "    ax[0][i].plot(prob_list, coverage_cp_list[i])\n",
    "    ax[0][i].axhline(y = 0.95, color = 'magenta')\n",
    "    ax[0][i].set_xlabel('p', size = 30)\n",
    "    ax[0][i].set_ylabel('Coverage Probability', size = 30)\n",
    "    ax[0][i].tick_params(labelsize = 25)\n",
    "    ax[0][i].set_title('N = ' + str(num_list[i]), size = 35)\n",
    "    \n",
    "for i in range(2):\n",
    "    ax[1][i].plot(prob_list, coverage_cp_list[i+2])\n",
    "    ax[1][i].axhline(y = 0.95, color = 'magenta')\n",
    "    ax[1][i].set_xlabel('p', size = 30)\n",
    "    ax[1][i].set_ylabel('Coverage Probability', size = 30)\n",
    "    ax[1][i].tick_params(labelsize = 25)\n",
    "    ax[1][i].set_title('N = ' + str(num_list[i+2]), size = 35)\n",
    "    \n",
    "for i in range(2):\n",
    "    ax[2][i].plot(prob_list, coverage_cp_list[i+4])\n",
    "    ax[2][i].axhline(y = 0.95, color = 'magenta')\n",
    "    ax[2][i].set_xlabel('p', size = 30)\n",
    "    ax[2][i].set_ylabel('Coverage Probability', size = 30)\n",
    "    ax[2][i].tick_params(labelsize = 25)\n",
    "    ax[2][i].set_title('N = ' + str(num_list[i+4]), size = 35)"
   ]
  }
 ],
 "metadata": {
  "kernelspec": {
   "display_name": "Python 3",
   "language": "python",
   "name": "python3"
  },
  "language_info": {
   "codemirror_mode": {
    "name": "ipython",
    "version": 3
   },
   "file_extension": ".py",
   "mimetype": "text/x-python",
   "name": "python",
   "nbconvert_exporter": "python",
   "pygments_lexer": "ipython3",
   "version": "3.7.3"
  }
 },
 "nbformat": 4,
 "nbformat_minor": 4
}
