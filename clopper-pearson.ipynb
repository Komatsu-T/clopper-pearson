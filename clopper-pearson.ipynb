{
 "cells": [
  {
   "cell_type": "code",
   "execution_count": 94,
   "metadata": {},
   "outputs": [],
   "source": [
    "import numpy as np\n",
    "from statsmodels.stats import proportion as prop\n",
    "import matplotlib.pyplot as plt\n",
    "from scipy.stats import binom\n",
    "from scipy.stats import beta"
   ]
  },
  {
   "cell_type": "markdown",
   "metadata": {},
   "source": [
    "# Upper Limit"
   ]
  },
  {
   "cell_type": "code",
   "execution_count": null,
   "metadata": {},
   "outputs": [],
   "source": [
    "p_value = binom.pmf(0, 5, np.arange(0, 1.001, 0.001)) + binom.pmf(1, 5, np.arange(0, 1.001, 0.001)) + binom.pmf(2, 5, np.arange(0, 1.001, 0.001)) \n",
    "\n",
    "plt.figure(figsize = (15, 10))\n",
    "plt.plot(np.arange(0, 1.001, 0.001), p_value, linewidth = 3, label = 'p-value')\n",
    "plt.axhline(y = 0.025, color = 'magenta', label = 'p-value = 0.025')\n",
    "plt.xticks([0, 0.1, 0.2, 0.3, 0.4, 0.5, 0.6, 0.7, 0.8, 0.9, 1], fontsize = 20)\n",
    "plt.yticks(fontsize = 20)\n",
    "plt.xlabel('$\\\\theta_{0}$', size = 25)\n",
    "plt.ylabel('p-value', size = 25)\n",
    "plt.legend(fontsize = 25)"
   ]
  },
  {
   "cell_type": "markdown",
   "metadata": {},
   "source": [
    "# Lower Limit"
   ]
  },
  {
   "cell_type": "code",
   "execution_count": null,
   "metadata": {},
   "outputs": [],
   "source": [
    "p_value = binom.pmf(2, 5, np.arange(0, 1.001, 0.0001)) + binom.pmf(3, 5, np.arange(0, 1.001, 0.0001)) + binom.pmf(4, 5, np.arange(0, 1.001, 0.0001)) + binom.pmf(5, 5, np.arange(0, 1.001, 0.0001))\n",
    "\n",
    "plt.figure(figsize = (15, 10))\n",
    "plt.plot(np.arange(0, 1.001, 0.0001), p_value, linewidth = 3, label = 'p-value')\n",
    "plt.axhline(y = 0.025, color = 'magenta', label = 'p-value = 0.025')\n",
    "plt.xticks([0, 0.1, 0.2, 0.3, 0.4, 0.5, 0.6, 0.7, 0.8, 0.9, 1], fontsize = 20)\n",
    "plt.yticks(fontsize = 20)\n",
    "plt.xlabel('$\\\\theta_{0}$', size = 25)\n",
    "plt.ylabel('p-value', size = 25)\n",
    "plt.legend(fontsize = 25)"
   ]
  }
 ],
 "metadata": {
  "kernelspec": {
   "display_name": "Python 3",
   "language": "python",
   "name": "python3"
  },
  "language_info": {
   "codemirror_mode": {
    "name": "ipython",
    "version": 3
   },
   "file_extension": ".py",
   "mimetype": "text/x-python",
   "name": "python",
   "nbconvert_exporter": "python",
   "pygments_lexer": "ipython3",
   "version": "3.7.3"
  }
 },
 "nbformat": 4,
 "nbformat_minor": 4
}
